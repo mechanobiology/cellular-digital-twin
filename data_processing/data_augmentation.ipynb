{
 "cells": [
  {
   "cell_type": "code",
   "execution_count": null,
   "metadata": {},
   "outputs": [],
   "source": [
    "import numpy as np\n",
    "import cv2\n",
    "import os\n",
    "from random import randint\n",
    "from skimage import io"
   ]
  },
  {
   "cell_type": "code",
   "execution_count": null,
   "metadata": {},
   "outputs": [],
   "source": [
    "folder = \"3D_Nucl\"\n",
    "count = 0\n",
    "class_number = 1\n",
    "for i in range(20):\n",
    "    for filename in os.listdir(folder):\n",
    "        count += 1\n",
    "        angle = randint(1, 360)\n",
    "        vertical_shift = randint(-30, 30)\n",
    "        horizontal_shift = randint(-30, 30)\n",
    "        img_path = os.path.join(folder,filename)\n",
    "        img = io.imread(img_path)\n",
    "        new_img = np.zeros((img.shape), dtype=np.uint8)\n",
    "        for j in range(len(img)):\n",
    "            gray = cv2.cvtColor(img[j],cv2.COLOR_RGB2GRAY)\n",
    "            rows,cols = gray.shape\n",
    "            M = cv2.getRotationMatrix2D((cols/2,rows/2),angle,1)\n",
    "            dst = cv2.warpAffine(img[j],M,(cols,rows))\n",
    "            T = np.float32([[1, 0, horizontal_shift], [0, 1, vertical_shift]])\n",
    "            dst = cv2.warpAffine(dst,T,(cols, rows))\n",
    "            new_img[j] = dst\n",
    "        if count % 100 == 0:\n",
    "            newimg_path = '3D_Nucl_aug/Nucl{}/3D_cell_train_sample{}.tiff'.format(class_number, count)\n",
    "            class_number += 1\n",
    "        else:\n",
    "            newimg_path = '3D_Nucl_aug/Nucl{}/3D_cell_train_sample{}.tiff'.format(class_number, count)\n",
    "        io.imsave(newimg_path, new_img)"
   ]
  },
  {
   "cell_type": "code",
   "execution_count": null,
   "metadata": {},
   "outputs": [],
   "source": [
    "folder = \"3D_FA\"\n",
    "count = 0\n",
    "class_number = 1\n",
    "for i in range(20):\n",
    "    for filename in os.listdir(folder):\n",
    "        count += 1\n",
    "        angle = randint(1, 360)\n",
    "        vertical_shift = randint(-30, 30)\n",
    "        horizontal_shift = randint(-30, 30)\n",
    "        img_path = os.path.join(folder,filename)\n",
    "        img = io.imread(img_path)\n",
    "        new_img = np.zeros((img.shape), dtype=np.uint8)\n",
    "        for j in range(len(img)):\n",
    "            gray = cv2.cvtColor(img[j],cv2.COLOR_RGB2GRAY)\n",
    "            rows,cols = gray.shape\n",
    "            M = cv2.getRotationMatrix2D((cols/2,rows/2),angle,1)\n",
    "            dst = cv2.warpAffine(img[j],M,(cols,rows))\n",
    "            T = np.float32([[1, 0, horizontal_shift], [0, 1, vertical_shift]])\n",
    "            dst = cv2.warpAffine(dst,T,(cols, rows))\n",
    "            new_img[j] = dst\n",
    "        if count % 100 == 0:\n",
    "            newimg_path = '3D_FA_aug/FA{}/3D_cell_train_sample{}.tiff'.format(class_number, count)\n",
    "            class_number += 1\n",
    "        else:\n",
    "            newimg_path = '3D_FA_aug/FA{}/3D_cell_train_sample{}.tiff'.format(class_number, count)\n",
    "        io.imsave(newimg_path, new_img)"
   ]
  },
  {
   "cell_type": "code",
   "execution_count": null,
   "metadata": {},
   "outputs": [],
   "source": []
  }
 ],
 "metadata": {
  "kernelspec": {
   "display_name": "Python 3",
   "language": "python",
   "name": "python3"
  },
  "language_info": {
   "codemirror_mode": {
    "name": "ipython",
    "version": 3
   },
   "file_extension": ".py",
   "mimetype": "text/x-python",
   "name": "python",
   "nbconvert_exporter": "python",
   "pygments_lexer": "ipython3",
   "version": "3.8.5"
  }
 },
 "nbformat": 4,
 "nbformat_minor": 5
}
