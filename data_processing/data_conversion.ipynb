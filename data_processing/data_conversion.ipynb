{
 "cells": [
  {
   "cell_type": "code",
   "execution_count": null,
   "metadata": {},
   "outputs": [],
   "source": [
    "import h5py\n",
    "import numpy as np\n",
    "import cv2\n",
    "import os\n",
    "from PIL import Image\n",
    "from sklearn.preprocessing import OneHotEncoder\n",
    "from sklearn.preprocessing import LabelEncoder\n",
    "from sklearn.utils import shuffle\n",
    "from skimage import io"
   ]
  },
  {
   "cell_type": "code",
   "execution_count": null,
   "metadata": {},
   "outputs": [],
   "source": [
    "# Store all stacks into single numpy array\n",
    "data_folder = '3D_Nucl_aug'\n",
    "folder_list = []\n",
    "for folder in os.listdir(data_folder):\n",
    "    class_folder = os.path.join(data_folder,folder)\n",
    "    for filename in os.listdir(class_folder):\n",
    "        img_path = os.path.join(class_folder,filename)\n",
    "        folder_list.append(img_path)\n",
    "# Create input X array\n",
    "img_data = np.array([np.array(io.imread(path)) for path in folder_list])\n",
    "print(img_data.shape)"
   ]
  },
  {
   "cell_type": "code",
   "execution_count": null,
   "metadata": {},
   "outputs": [],
   "source": [
    "# Normalize data to 0-1 range\n",
    "img_data_int8 = img_data.astype(np.uint8)\n",
    "img_data_float = img_data_int8.astype('float32')\n",
    "img_data_float[:,:,:,:,(0,1)] /= img_data_float[:,:,:,:,(0,1)].max() # Normalize red and green channels\n",
    "img_data_float[:,:,:,:,2] /= img_data_float[:,:,:,:,2].max() # Normalize blue channel"
   ]
  },
  {
   "cell_type": "code",
   "execution_count": null,
   "metadata": {},
   "outputs": [],
   "source": [
    "# Create labels for each class represented by subfolders, e.g. Nucl1, Nucl2,...\n",
    "labels = []\n",
    "for folder in os.listdir(data_folder):\n",
    "    class_folder = os.path.join(data_folder,folder)\n",
    "    for filename in os.listdir(class_folder):\n",
    "        labels.append(folder)\n",
    "enc = OneHotEncoder(sparse=False)\n",
    "label_enc = LabelEncoder()\n",
    "labels_arr = np.array(labels)\n",
    "y_labels_int = label_enc.fit_transform(labels_arr)\n",
    "y_labels = np.reshape(y_labels_int, (len(img_data), 1))\n",
    "# Create condition Y array\n",
    "y_vector = enc.fit_transform(y_labels)\n",
    "print(np.shape(y_vector))"
   ]
  },
  {
   "cell_type": "code",
   "execution_count": null,
   "metadata": {},
   "outputs": [],
   "source": [
    "# Create reference R array\n",
    "images_split = np.array_split(img_data_float, 3, axis=4)\n",
    "ref_channel = np.append(images_split[0], images_split[1], axis=4) # Use red and green channels as reference\n",
    "print(np.shape(ref_channel))"
   ]
  },
  {
   "cell_type": "code",
   "execution_count": null,
   "metadata": {},
   "outputs": [],
   "source": [
    "# Shuffle data\n",
    "X_data_rand, Y_data_rand, R_data_rand = shuffle(img_data_float, y_vector, ref_channel, random_state=0)"
   ]
  },
  {
   "cell_type": "code",
   "execution_count": null,
   "metadata": {},
   "outputs": [],
   "source": [
    "def store_h5_split(images, ref_channel, labels):\n",
    "    \"\"\" Stores an array of images to HDF5.\n",
    "        Parameters:\n",
    "        ---------------\n",
    "        images       images array, (N, 64, 256, 256, 3) to be stored\n",
    "        ref_channel  reference array, (N, 64, 256, 256, 2) to be stored\n",
    "        labels       labels array, (N, 10) to be stored\n",
    "    \"\"\"\n",
    "\n",
    "    # Create a new HDF5 file\n",
    "    file = h5py.File('3D_Nucl_aug.h5', \"w\")\n",
    "\n",
    "    # Create a dataset in the file\n",
    "    dataset_X = file.create_dataset(\n",
    "        \"X\", np.shape(images), h5py.h5t.IEEE_F32BE, data=images\n",
    "    )\n",
    "    \n",
    "    dataset_Y = file.create_dataset(\n",
    "        \"Y\", np.shape(labels), h5py.h5t.STD_U8BE, data=labels\n",
    "    )\n",
    "    \n",
    "    dataset_R = file.create_dataset(\n",
    "        \"R\", np.shape(ref_channel), h5py.h5t.IEEE_F32BE, data=ref_channel\n",
    "    )\n",
    "    file.close()"
   ]
  },
  {
   "cell_type": "code",
   "execution_count": null,
   "metadata": {},
   "outputs": [],
   "source": [
    "store_h5_split(X_data_rand, R_data_rand, Y_data_rand)"
   ]
  },
  {
   "cell_type": "code",
   "execution_count": null,
   "metadata": {},
   "outputs": [],
   "source": []
  }
 ],
 "metadata": {
  "kernelspec": {
   "display_name": "Python 3",
   "language": "python",
   "name": "python3"
  },
  "language_info": {
   "codemirror_mode": {
    "name": "ipython",
    "version": 3
   },
   "file_extension": ".py",
   "mimetype": "text/x-python",
   "name": "python",
   "nbconvert_exporter": "python",
   "pygments_lexer": "ipython3",
   "version": "3.7.3"
  }
 },
 "nbformat": 4,
 "nbformat_minor": 4
}
